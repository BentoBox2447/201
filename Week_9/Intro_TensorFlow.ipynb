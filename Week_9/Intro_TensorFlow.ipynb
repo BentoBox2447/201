{
 "cells": [
  {
   "cell_type": "markdown",
   "metadata": {},
   "source": [
    "### Introduction to TensorFlow\n",
    "In this notebook, we will learn \n",
    "- Some common TensorFlow operations \n",
    "- Run math operations using Session\n",
    "- Understand how TensorFlow can run computes on different devices"
   ]
  },
  {
   "cell_type": "code",
   "execution_count": 3,
   "metadata": {},
   "outputs": [
    {
     "name": "stdout",
     "output_type": "stream",
     "text": [
      "Collecting package metadata (current_repodata.json): ...working... done\n",
      "Solving environment: ...working... \n",
      "The environment is inconsistent, please check the package plan carefully\n",
      "The following packages are causing the inconsistency:\n",
      "\n",
      "  - defaults/win-64::anaconda==2019.07=py37_0\n",
      "  - defaults/win-64::numba==0.44.1=py37hf9181ef_0\n",
      "done\n",
      "\n",
      "## Package Plan ##\n",
      "\n",
      "  environment location: C:\\Users\\606569\\AppData\\Local\\Continuum\\anaconda3\n",
      "\n",
      "  added / updated specs:\n",
      "    - tensorflow\n",
      "\n",
      "\n",
      "The following packages will be downloaded:\n",
      "\n",
      "    package                    |            build\n",
      "    ---------------------------|-----------------\n",
      "    _anaconda_depends-2019.03  |           py37_0           6 KB\n",
      "    _tflow_select-2.3.0        |              mkl           3 KB\n",
      "    absl-py-0.8.1              |           py37_0         162 KB\n",
      "    anaconda-custom            |           py37_1           3 KB\n",
      "    astor-0.8.0                |           py37_0          47 KB\n",
      "    ca-certificates-2019.10.16 |                0         163 KB\n",
      "    gast-0.2.2                 |           py37_0         155 KB\n",
      "    google-pasta-0.1.7         |             py_0          41 KB\n",
      "    grpcio-1.16.1              |   py37h351948d_1         850 KB\n",
      "    keras-applications-1.0.8   |             py_0          33 KB\n",
      "    keras-preprocessing-1.1.0  |             py_1          36 KB\n",
      "    libmklml-2019.0.5          |                0        17.4 MB\n",
      "    libprotobuf-3.9.2          |       h7bd577a_0         1.8 MB\n",
      "    markdown-3.1.1             |           py37_0         132 KB\n",
      "    numpy-1.17.3               |   py37h4ceb530_0           5 KB\n",
      "    numpy-base-1.17.3          |   py37hc3f5095_0         4.8 MB\n",
      "    openssl-1.1.1d             |       he774522_3         5.7 MB\n",
      "    opt_einsum-3.1.0           |             py_0          54 KB\n",
      "    protobuf-3.9.2             |   py37h33f27b4_0         537 KB\n",
      "    tbb-2019.4                 |       h74a9793_0         156 KB\n",
      "    tensorboard-2.0.0          |     pyhb230dea_0         3.2 MB\n",
      "    tensorflow-2.0.0           |mkl_py37he1bbcac_0           4 KB\n",
      "    tensorflow-base-2.0.0      |mkl_py37hd1d5974_0        30.9 MB\n",
      "    tensorflow-estimator-2.0.0 |     pyh2649769_0         250 KB\n",
      "    termcolor-1.1.0            |           py37_1           8 KB\n",
      "    ------------------------------------------------------------\n",
      "                                           Total:        66.4 MB\n",
      "\n",
      "The following NEW packages will be INSTALLED:\n",
      "\n",
      "  _anaconda_depends  pkgs/main/win-64::_anaconda_depends-2019.03-py37_0\n",
      "  _tflow_select      pkgs/main/win-64::_tflow_select-2.3.0-mkl\n",
      "  absl-py            pkgs/main/win-64::absl-py-0.8.1-py37_0\n",
      "  astor              pkgs/main/win-64::astor-0.8.0-py37_0\n",
      "  gast               pkgs/main/win-64::gast-0.2.2-py37_0\n",
      "  google-pasta       pkgs/main/noarch::google-pasta-0.1.7-py_0\n",
      "  grpcio             pkgs/main/win-64::grpcio-1.16.1-py37h351948d_1\n",
      "  keras-applications pkgs/main/noarch::keras-applications-1.0.8-py_0\n",
      "  keras-preprocessi~ pkgs/main/noarch::keras-preprocessing-1.1.0-py_1\n",
      "  libmklml           pkgs/main/win-64::libmklml-2019.0.5-0\n",
      "  libprotobuf        pkgs/main/win-64::libprotobuf-3.9.2-h7bd577a_0\n",
      "  markdown           pkgs/main/win-64::markdown-3.1.1-py37_0\n",
      "  opt_einsum         pkgs/main/noarch::opt_einsum-3.1.0-py_0\n",
      "  protobuf           pkgs/main/win-64::protobuf-3.9.2-py37h33f27b4_0\n",
      "  tbb                pkgs/main/win-64::tbb-2019.4-h74a9793_0\n",
      "  tensorboard        pkgs/main/noarch::tensorboard-2.0.0-pyhb230dea_0\n",
      "  tensorflow         pkgs/main/win-64::tensorflow-2.0.0-mkl_py37he1bbcac_0\n",
      "  tensorflow-base    pkgs/main/win-64::tensorflow-base-2.0.0-mkl_py37hd1d5974_0\n",
      "  tensorflow-estima~ pkgs/main/noarch::tensorflow-estimator-2.0.0-pyh2649769_0\n",
      "  termcolor          pkgs/main/win-64::termcolor-1.1.0-py37_1\n",
      "\n",
      "The following packages will be UPDATED:\n",
      "\n",
      "  ca-certificates                               2019.5.15-0 --> 2019.10.16-0\n",
      "  certifi                                  2019.6.16-py37_0 --> 2019.9.11-py37_0\n",
      "  numpy                               1.16.4-py37h19fb1c0_0 --> 1.17.3-py37h4ceb530_0\n",
      "  numpy-base                          1.16.4-py37hc3f5095_0 --> 1.17.3-py37hc3f5095_0\n",
      "  openssl                                 1.1.1c-he774522_1 --> 1.1.1d-he774522_3\n",
      "  vs2015_runtime                     14.15.26706-h3a45250_4 --> 14.16.27012-hf0eaf9b_0\n",
      "\n",
      "The following packages will be DOWNGRADED:\n",
      "\n",
      "  anaconda                                   2019.07-py37_0 --> custom-py37_1\n",
      "\n",
      "\n",
      "\n",
      "Downloading and Extracting Packages\n",
      "\n",
      "libmklml-2019.0.5    | 17.4 MB   |            |   0% \n",
      "libmklml-2019.0.5    | 17.4 MB   |            |   1% \n",
      "libmklml-2019.0.5    | 17.4 MB   | 9          |   9% \n",
      "libmklml-2019.0.5    | 17.4 MB   | #8         |  19% \n",
      "libmklml-2019.0.5    | 17.4 MB   | ##6        |  27% \n",
      "libmklml-2019.0.5    | 17.4 MB   | ###5       |  35% \n",
      "libmklml-2019.0.5    | 17.4 MB   | ####2      |  43% \n",
      "libmklml-2019.0.5    | 17.4 MB   | #####      |  51% \n",
      "libmklml-2019.0.5    | 17.4 MB   | #####8     |  58% \n",
      "libmklml-2019.0.5    | 17.4 MB   | ######6    |  66% \n",
      "libmklml-2019.0.5    | 17.4 MB   | #######3   |  74% \n",
      "libmklml-2019.0.5    | 17.4 MB   | ########2  |  82% \n",
      "libmklml-2019.0.5    | 17.4 MB   | ########9  |  90% \n",
      "libmklml-2019.0.5    | 17.4 MB   | #########8 |  98% \n",
      "libmklml-2019.0.5    | 17.4 MB   | ########## | 100% \n",
      "\n",
      "tensorboard-2.0.0    | 3.2 MB    |            |   0% \n",
      "tensorboard-2.0.0    | 3.2 MB    | ##8        |  28% \n",
      "tensorboard-2.0.0    | 3.2 MB    | #######    |  70% \n",
      "tensorboard-2.0.0    | 3.2 MB    | ########## | 100% \n",
      "\n",
      "_tflow_select-2.3.0  | 3 KB      |            |   0% \n",
      "_tflow_select-2.3.0  | 3 KB      | ########## | 100% \n",
      "\n",
      "keras-applications-1 | 33 KB     |            |   0% \n",
      "keras-applications-1 | 33 KB     | ########## | 100% \n",
      "\n",
      "openssl-1.1.1d       | 5.7 MB    |            |   0% \n",
      "openssl-1.1.1d       | 5.7 MB    | #5         |  15% \n",
      "openssl-1.1.1d       | 5.7 MB    | ###9       |  39% \n",
      "openssl-1.1.1d       | 5.7 MB    | ######2    |  62% \n",
      "openssl-1.1.1d       | 5.7 MB    | ########3  |  84% \n",
      "openssl-1.1.1d       | 5.7 MB    | ########## | 100% \n",
      "\n",
      "numpy-1.17.3         | 5 KB      |            |   0% \n",
      "numpy-1.17.3         | 5 KB      | ########## | 100% \n",
      "\n",
      "keras-preprocessing- | 36 KB     |            |   0% \n",
      "keras-preprocessing- | 36 KB     | ########## | 100% \n",
      "\n",
      "absl-py-0.8.1        | 162 KB    |            |   0% \n",
      "absl-py-0.8.1        | 162 KB    | ########## | 100% \n",
      "\n",
      "google-pasta-0.1.7   | 41 KB     |            |   0% \n",
      "google-pasta-0.1.7   | 41 KB     | ########## | 100% \n",
      "\n",
      "opt_einsum-3.1.0     | 54 KB     |            |   0% \n",
      "opt_einsum-3.1.0     | 54 KB     | ########## | 100% \n",
      "\n",
      "libprotobuf-3.9.2    | 1.8 MB    |            |   0% \n",
      "libprotobuf-3.9.2    | 1.8 MB    | ######4    |  65% \n",
      "libprotobuf-3.9.2    | 1.8 MB    | #########7 |  97% \n",
      "libprotobuf-3.9.2    | 1.8 MB    | ########## | 100% \n",
      "\n",
      "tensorflow-base-2.0. | 30.9 MB   |            |   0% \n",
      "tensorflow-base-2.0. | 30.9 MB   | 3          |   3% \n",
      "tensorflow-base-2.0. | 30.9 MB   | 7          |   7% \n",
      "tensorflow-base-2.0. | 30.9 MB   | #1         |  11% \n",
      "tensorflow-base-2.0. | 30.9 MB   | #5         |  15% \n",
      "tensorflow-base-2.0. | 30.9 MB   | #9         |  20% \n",
      "tensorflow-base-2.0. | 30.9 MB   | ##3        |  24% \n",
      "tensorflow-base-2.0. | 30.9 MB   | ##8        |  28% \n",
      "tensorflow-base-2.0. | 30.9 MB   | ###2       |  32% \n",
      "tensorflow-base-2.0. | 30.9 MB   | ###6       |  37% \n",
      "tensorflow-base-2.0. | 30.9 MB   | ####1      |  41% \n",
      "tensorflow-base-2.0. | 30.9 MB   | ####5      |  46% \n",
      "tensorflow-base-2.0. | 30.9 MB   | #####      |  50% \n",
      "tensorflow-base-2.0. | 30.9 MB   | #####4     |  54% \n",
      "tensorflow-base-2.0. | 30.9 MB   | #####8     |  59% \n",
      "tensorflow-base-2.0. | 30.9 MB   | ######2    |  63% \n",
      "tensorflow-base-2.0. | 30.9 MB   | ######7    |  67% \n",
      "tensorflow-base-2.0. | 30.9 MB   | #######1   |  71% \n",
      "tensorflow-base-2.0. | 30.9 MB   | #######5   |  76% \n",
      "tensorflow-base-2.0. | 30.9 MB   | #######9   |  80% \n",
      "tensorflow-base-2.0. | 30.9 MB   | ########4  |  84% \n",
      "tensorflow-base-2.0. | 30.9 MB   | ########8  |  88% \n",
      "tensorflow-base-2.0. | 30.9 MB   | #########2 |  93% \n",
      "tensorflow-base-2.0. | 30.9 MB   | #########6 |  97% \n",
      "tensorflow-base-2.0. | 30.9 MB   | ########## | 100% \n",
      "\n",
      "numpy-base-1.17.3    | 4.8 MB    |            |   0% \n",
      "numpy-base-1.17.3    | 4.8 MB    | #7         |  18% \n",
      "numpy-base-1.17.3    | 4.8 MB    | ####5      |  46% \n",
      "numpy-base-1.17.3    | 4.8 MB    | #######3   |  73% \n",
      "numpy-base-1.17.3    | 4.8 MB    | ########## | 100% \n",
      "\n",
      "tensorflow-2.0.0     | 4 KB      |            |   0% \n",
      "tensorflow-2.0.0     | 4 KB      | ########## | 100% \n",
      "\n",
      "tensorflow-estimator | 250 KB    |            |   0% \n",
      "tensorflow-estimator | 250 KB    | ########## | 100% \n",
      "\n",
      "grpcio-1.16.1        | 850 KB    |            |   0% \n",
      "grpcio-1.16.1        | 850 KB    | ########## | 100% \n",
      "\n",
      "_anaconda_depends-20 | 6 KB      |            |   0% \n",
      "_anaconda_depends-20 | 6 KB      | ########## | 100% \n",
      "\n",
      "termcolor-1.1.0      | 8 KB      |            |   0% \n",
      "termcolor-1.1.0      | 8 KB      | ########## | 100% \n",
      "\n",
      "astor-0.8.0          | 47 KB     |            |   0% \n",
      "astor-0.8.0          | 47 KB     | ########## | 100% \n",
      "\n",
      "ca-certificates-2019 | 163 KB    |            |   0% \n",
      "ca-certificates-2019 | 163 KB    | ########## | 100% \n",
      "\n",
      "anaconda-custom      | 3 KB      |            |   0% \n",
      "anaconda-custom      | 3 KB      | ########## | 100% \n",
      "\n",
      "markdown-3.1.1       | 132 KB    |            |   0% \n",
      "markdown-3.1.1       | 132 KB    | ########## | 100% \n",
      "\n",
      "protobuf-3.9.2       | 537 KB    |            |   0% \n",
      "protobuf-3.9.2       | 537 KB    | ########## | 100% \n",
      "\n",
      "gast-0.2.2           | 155 KB    |            |   0% \n",
      "gast-0.2.2           | 155 KB    | ########## | 100% \n",
      "\n",
      "tbb-2019.4           | 156 KB    |            |   0% \n",
      "tbb-2019.4           | 156 KB    | ########## | 100% \n",
      "Preparing transaction: ...working... done\n",
      "Verifying transaction: ...working... done\n",
      "Executing transaction: ...working... done\n",
      "\n",
      "Note: you may need to restart the kernel to use updated packages.\n"
     ]
    }
   ],
   "source": [
    "conda install tensorflow"
   ]
  },
  {
   "cell_type": "code",
   "execution_count": 1,
   "metadata": {},
   "outputs": [
    {
     "ename": "ModuleNotFoundError",
     "evalue": "No module named 'tensorflow'",
     "output_type": "error",
     "traceback": [
      "\u001b[1;31m---------------------------------------------------------------------------\u001b[0m",
      "\u001b[1;31mModuleNotFoundError\u001b[0m                       Traceback (most recent call last)",
      "\u001b[1;32m<ipython-input-1-48912e5b1953>\u001b[0m in \u001b[0;36m<module>\u001b[1;34m\u001b[0m\n\u001b[0;32m      1\u001b[0m \u001b[1;31m# Import tensorflow library\u001b[0m\u001b[1;33m\u001b[0m\u001b[1;33m\u001b[0m\u001b[1;33m\u001b[0m\u001b[0m\n\u001b[0;32m      2\u001b[0m \u001b[1;31m# Reference it as tf for ease of calling\u001b[0m\u001b[1;33m\u001b[0m\u001b[1;33m\u001b[0m\u001b[1;33m\u001b[0m\u001b[0m\n\u001b[1;32m----> 3\u001b[1;33m \u001b[1;32mimport\u001b[0m \u001b[0mtensorflow\u001b[0m \u001b[1;32mas\u001b[0m \u001b[0mtf\u001b[0m\u001b[1;33m\u001b[0m\u001b[1;33m\u001b[0m\u001b[0m\n\u001b[0m\u001b[0;32m      4\u001b[0m \u001b[1;32mimport\u001b[0m \u001b[0mwarnings\u001b[0m\u001b[1;33m\u001b[0m\u001b[1;33m\u001b[0m\u001b[0m\n\u001b[0;32m      5\u001b[0m \u001b[0mwarnings\u001b[0m\u001b[1;33m.\u001b[0m\u001b[0mfilterwarnings\u001b[0m\u001b[1;33m(\u001b[0m\u001b[1;34m'ignore'\u001b[0m\u001b[1;33m)\u001b[0m\u001b[1;33m\u001b[0m\u001b[1;33m\u001b[0m\u001b[0m\n",
      "\u001b[1;31mModuleNotFoundError\u001b[0m: No module named 'tensorflow'"
     ]
    }
   ],
   "source": [
    "# Import tensorflow library\n",
    "# Reference it as tf for ease of calling\n",
    "import tensorflow as tf\n",
    "import warnings\n",
    "warnings.filterwarnings('ignore')"
   ]
  },
  {
   "cell_type": "code",
   "execution_count": null,
   "metadata": {},
   "outputs": [],
   "source": [
    "# Let's check our TensorFlow version\n",
    "print(\"You are running TensorFlow %s\" % str(tf.__version__))"
   ]
  },
  {
   "cell_type": "code",
   "execution_count": 2,
   "metadata": {},
   "outputs": [
    {
     "ename": "NameError",
     "evalue": "name 'tf' is not defined",
     "output_type": "error",
     "traceback": [
      "\u001b[1;31m---------------------------------------------------------------------------\u001b[0m",
      "\u001b[1;31mNameError\u001b[0m                                 Traceback (most recent call last)",
      "\u001b[1;32m<ipython-input-2-cf74ee94d447>\u001b[0m in \u001b[0;36m<module>\u001b[1;34m\u001b[0m\n\u001b[0;32m      2\u001b[0m \u001b[1;31m# Let us use an InteractiveSession\u001b[0m\u001b[1;33m\u001b[0m\u001b[1;33m\u001b[0m\u001b[1;33m\u001b[0m\u001b[0m\n\u001b[0;32m      3\u001b[0m \u001b[1;31m# Provides an easy to use session for interactive environments like a Jupyter notebook\u001b[0m\u001b[1;33m\u001b[0m\u001b[1;33m\u001b[0m\u001b[1;33m\u001b[0m\u001b[0m\n\u001b[1;32m----> 4\u001b[1;33m \u001b[0msess\u001b[0m \u001b[1;33m=\u001b[0m \u001b[0mtf\u001b[0m\u001b[1;33m.\u001b[0m\u001b[0mInteractiveSession\u001b[0m\u001b[1;33m(\u001b[0m\u001b[1;33m)\u001b[0m\u001b[1;33m\u001b[0m\u001b[1;33m\u001b[0m\u001b[0m\n\u001b[0m",
      "\u001b[1;31mNameError\u001b[0m: name 'tf' is not defined"
     ]
    }
   ],
   "source": [
    "# List of math ops can be found here: https://www.tensorflow.org/api_guides/python/math_ops\n",
    "# Let us use an InteractiveSession \n",
    "# Provides an easy to use session for interactive environments like a Jupyter notebook\n",
    "sess = tf.InteractiveSession()"
   ]
  },
  {
   "cell_type": "code",
   "execution_count": 4,
   "metadata": {},
   "outputs": [
    {
     "name": "stdout",
     "output_type": "stream",
     "text": [
      "34\n"
     ]
    }
   ],
   "source": [
    "a = tf.constant(23, name='const_a')\n",
    "b = tf.constant(11, name='const_b')\n",
    "\n",
    "# Let's add the two prime numbers\n",
    "c = tf.add(a, b)\n",
    "print(c.eval())"
   ]
  },
  {
   "cell_type": "code",
   "execution_count": 5,
   "metadata": {},
   "outputs": [
    {
     "name": "stdout",
     "output_type": "stream",
     "text": [
      "12\n"
     ]
    }
   ],
   "source": [
    "# Let's subtract two prime numbers\n",
    "c = tf.subtract(a, b)\n",
    "print(c.eval())"
   ]
  },
  {
   "cell_type": "code",
   "execution_count": 6,
   "metadata": {},
   "outputs": [
    {
     "data": {
      "text/plain": [
       "<tf.Tensor 'LogicalXor:0' shape=() dtype=bool>"
      ]
     },
     "execution_count": 6,
     "metadata": {},
     "output_type": "execute_result"
    }
   ],
   "source": [
    "# More ops for playing with TensorFlow \n",
    "# Let's multiply two prime numbers\n",
    "c = tf.multiply(a, b)\n",
    "# 253\n",
    "\n",
    "# Let's divide two prime numbers\n",
    "c = tf.divide(23, 13)\n",
    "# 2\n",
    "\n",
    "a = tf.constant(23., name='const_a')\n",
    "b = tf.constant(11., name='const_b')\n",
    "\n",
    "# Now, let's divide two prime numbers to see the difference\n",
    "c = tf.divide(23, 13)\n",
    "# 2.090909\n",
    "\n",
    "# Let's get the modulus of two prime numbers\n",
    "c = tf.mod(a, b)\n",
    "# 1.0\n",
    "\n",
    "a = tf.constant(2., name='const_a')\n",
    "b = tf.constant(10., name='const_b')\n",
    "\n",
    "# Let's calculate 2^10\n",
    "c = tf.pow(a, b)\n",
    "# 1024.0\n",
    "\n",
    "# List of control ops can be found here: https://www.tensorflow.org/api_guides/python/control_flow_ops\n",
    "# Check for a < b\n",
    "c = tf.less(a, b)\n",
    "# True \n",
    "\n",
    "# Check for a <= b\n",
    "c = tf.less_equal(a, b)\n",
    "# True\n",
    "\n",
    "# Check for a > b\n",
    "c = tf.greater(a, b)\n",
    "# False\n",
    "\n",
    "# Check for a >= b\n",
    "c = tf.greater_equal(a, b)\n",
    "# False\n",
    "\n",
    "# Some conditional check statements\n",
    "c = tf.logical_and(True, False)\n",
    "# False\n",
    "\n",
    "tf.logical_or(True, False)\n",
    "# True\n",
    "\n",
    "tf.logical_xor(True, False)\n",
    "# True"
   ]
  },
  {
   "cell_type": "code",
   "execution_count": 7,
   "metadata": {},
   "outputs": [],
   "source": [
    "# Let's create two matrices, a 3x1 and another 1x3 matrix for multiplication\n",
    "mat_a = tf.constant([[1., 3., 5.]], name='mat_a')\n",
    "mat_b = tf.constant([[7.], [11.], [13.]], name='mat_b')"
   ]
  },
  {
   "cell_type": "code",
   "execution_count": 8,
   "metadata": {},
   "outputs": [
    {
     "name": "stdout",
     "output_type": "stream",
     "text": [
      "Tensor(\"MatMul:0\", shape=(1, 1), dtype=float32)\n"
     ]
    }
   ],
   "source": [
    "# Let's matrix multiply the two matrices\n",
    "prod_op = tf.matmul(mat_a, mat_b)\n",
    "print(prod_op)"
   ]
  },
  {
   "cell_type": "code",
   "execution_count": 9,
   "metadata": {},
   "outputs": [],
   "source": [
    "# Create a session object to run our matrix multiplication\n",
    "sess = tf.Session()"
   ]
  },
  {
   "cell_type": "code",
   "execution_count": 10,
   "metadata": {},
   "outputs": [],
   "source": [
    "# Get the result by calling run on the session\n",
    "# Returns an numpy ndarray object\n",
    "mat_mul = sess.run(prod_op)"
   ]
  },
  {
   "cell_type": "code",
   "execution_count": 11,
   "metadata": {},
   "outputs": [
    {
     "name": "stdout",
     "output_type": "stream",
     "text": [
      "[[105.]]\n"
     ]
    }
   ],
   "source": [
    "# Let's view the result \n",
    "print(mat_mul)\n",
    "# [[ 105.]]"
   ]
  },
  {
   "cell_type": "code",
   "execution_count": 12,
   "metadata": {},
   "outputs": [],
   "source": [
    "# Remember to close the session when done, releases the resources\n",
    "sess.close()"
   ]
  },
  {
   "cell_type": "code",
   "execution_count": 13,
   "metadata": {},
   "outputs": [
    {
     "name": "stdout",
     "output_type": "stream",
     "text": [
      "[[105.]]\n"
     ]
    }
   ],
   "source": [
    "# Easier way to handle session objects is \n",
    "# using the familiar 'with' block as follows\n",
    "with tf.Session() as sess:\n",
    "    mat_mul = sess.run(prod_op)\n",
    "    print(mat_mul)\n",
    "# [[ 105.]]"
   ]
  },
  {
   "cell_type": "code",
   "execution_count": 14,
   "metadata": {},
   "outputs": [
    {
     "name": "stdout",
     "output_type": "stream",
     "text": [
      "[[105.]]\n"
     ]
    }
   ],
   "source": [
    "# If you have multiple devices capable of computes, use it as follows\n",
    "# /cpu:<device_id>\n",
    "# [Mac] Run the following command to know how many logical cores are present on your machine: sysctl -n hw.ncpu\n",
    "# [Win] Run the following command to know how many logical cores are present on your machine: systeminfo | find /i \"processors\"\n",
    "with tf.Session() as sess:\n",
    "    with tf.device(\"/cpu:0\"):\n",
    "        mat_mul = sess.run(prod_op)\n",
    "        print(mat_mul)\n",
    "# [[ 105.]]"
   ]
  },
  {
   "cell_type": "code",
   "execution_count": null,
   "metadata": {},
   "outputs": [],
   "source": []
  },
  {
   "cell_type": "code",
   "execution_count": null,
   "metadata": {},
   "outputs": [],
   "source": []
  }
 ],
 "metadata": {
  "kernelspec": {
   "display_name": "Python 3",
   "language": "python",
   "name": "python3"
  },
  "language_info": {
   "codemirror_mode": {
    "name": "ipython",
    "version": 3
   },
   "file_extension": ".py",
   "mimetype": "text/x-python",
   "name": "python",
   "nbconvert_exporter": "python",
   "pygments_lexer": "ipython3",
   "version": "3.7.3"
  }
 },
 "nbformat": 4,
 "nbformat_minor": 4
}
