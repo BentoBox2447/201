{
 "cells": [
  {
   "cell_type": "markdown",
   "metadata": {},
   "source": [
    "#    Regression\n",
    "\n",
    "The regression coefficient tells us the associational relationship of observational data.\n",
    "y = a + bx + cz. For a fixed value of z, a unit increase in x is associated with b increase in y.\n",
    "But we cannot say, in general, that changing x is associated with b increase in y. That is the difference between observation \"Seeing\" and interventional \"Doing\". The latter is the causal relationship. How do we know in a regression if the coefficient is a causal impact? It depends on what z is. If z is a confounder, then b is a causal impact. If z is a collider, b is not a causal impact.\n"
   ]
  },
  {
   "cell_type": "code",
   "execution_count": 2,
   "metadata": {},
   "outputs": [],
   "source": [
    "import numpy as np\n",
    "import matplotlib.pyplot as plt\n",
    "import pandas\n",
    "\n",
    "from statsmodels.formula.api import ols\n",
    "\n",
    "import warnings\n",
    "warnings.filterwarnings('ignore')"
   ]
  },
  {
   "cell_type": "markdown",
   "metadata": {},
   "source": [
    "## Confounder\n",
    "Let us simulate a data generating process. The first case is a common cause z of the two variables x and y. If we control for the confounding variable z, then then x and y become independent. \n",
    "\n",
    "Note that if z is a mediator between x and y and we control for z, then z and y become independent. Statistics alone cannot tell us which one is the right model."
   ]
  },
  {
   "cell_type": "code",
   "execution_count": 3,
   "metadata": {},
   "outputs": [
    {
     "name": "stdout",
     "output_type": "stream",
     "text": [
      "Intercept    0.006435\n",
      "x            1.196264\n",
      "dtype: float64\n",
      "Intercept    0.009075\n",
      "x            0.023401\n",
      "z            2.938442\n",
      "dtype: float64\n"
     ]
    }
   ],
   "source": [
    "# Fork (Confounder): x<-z->y\n",
    "z=np.random.normal(size=10000)\n",
    "x=2*z + np.random.normal(size=10000)\n",
    "y=3*z + np.random.normal(size=10000)\n",
    "data = pandas.DataFrame({'x': x, 'y': y, 'z': z})\n",
    "\n",
    "mod7 = ols(\"y~x\", data).fit()\n",
    "print(mod7.params)\n",
    "mod8 = ols(\"y~x+z\", data).fit()\n",
    "print(mod8.params)"
   ]
  },
  {
   "cell_type": "markdown",
   "metadata": {},
   "source": [
    "## Mediator\n",
    "The second case is a mediator z between x and y. But we also add a direct path from x to y.\n",
    "If we control for z, we can meaure the direct causal impact of x on y. Otherwise we have the total impact (direct + indirect) of x on y."
   ]
  },
  {
   "cell_type": "code",
   "execution_count": 6,
   "metadata": {},
   "outputs": [
    {
     "name": "stdout",
     "output_type": "stream",
     "text": [
      "Intercept    -0.012600\n",
      "x            10.982178\n",
      "dtype: float64\n",
      "Intercept    9.298118e-16\n",
      "x            5.000000e+00\n",
      "z            3.000000e+00\n",
      "dtype: float64\n"
     ]
    }
   ],
   "source": [
    "#Mediator (direct and indirect causal impact): x->z->y and x->y\n",
    "x=np.random.normal(size=10000)\n",
    "z = 2*x + np.random.normal(size=10000)\n",
    "y = 3*z + 5*x\n",
    "data = pandas.DataFrame({'x': x, 'y': y, 'z': z})\n",
    "mod5 = ols(\"y~x\", data).fit()\n",
    "print(mod5.params)\n",
    "mod6 = ols(\"y~x+z\", data).fit()\n",
    "print(mod6.params)"
   ]
  },
  {
   "cell_type": "markdown",
   "metadata": {},
   "source": [
    "## Collider\n",
    "\n",
    "The third case is a common effect z of the two variables x and y. The variables x and y are indpendent. If we control for the variable z, then then x and y become dependent. \n",
    "This shows that controlling for more variables creates a bias. "
   ]
  },
  {
   "cell_type": "code",
   "execution_count": 8,
   "metadata": {},
   "outputs": [
    {
     "name": "stdout",
     "output_type": "stream",
     "text": [
      "Intercept   -0.001684\n",
      "x            0.020741\n",
      "dtype: float64\n",
      "Intercept   -2.571728e-16\n",
      "x           -1.000000e+00\n",
      "z            1.000000e+00\n",
      "dtype: float64\n",
      "Intercept    8.413409e-17\n",
      "x            1.000000e+00\n",
      "y            1.000000e+00\n",
      "dtype: float64\n",
      "Intercept   -0.001684\n",
      "x            1.020741\n",
      "dtype: float64\n"
     ]
    }
   ],
   "source": [
    "#Collider:  x->z<-y. Controlling for Z introduces bias\n",
    "x=np.random.normal(size=10000)\n",
    "y=np.random.normal(size=10000)\n",
    "z=x+y\n",
    "data = pandas.DataFrame({'x': x, 'y': y, 'z': z})\n",
    "mod1 = ols(\"y~x\", data).fit()\n",
    "print(mod1.params)\n",
    "mod2 = ols(\"y~x+z\", data).fit()\n",
    "print(mod2.params)\n",
    "mod3 = ols(\"z~x+y\", data).fit() # The regression coeffient of z with respect to x does not change if we add/remove y,\n",
    "                                #since x and y are independent \n",
    "print(mod3.params)\n",
    "mod4 = ols(\"z~x\", data).fit() # it is no different than mod3\n",
    "print(mod4.params)"
   ]
  },
  {
   "cell_type": "code",
   "execution_count": 24,
   "metadata": {},
   "outputs": [
    {
     "name": "stdout",
     "output_type": "stream",
     "text": [
      "[ 1.29394308  0.68682049  0.09061396 ... -1.57996167  0.06590928\n",
      " -0.63723545]\n"
     ]
    }
   ],
   "source": [
    "print(x)"
   ]
  },
  {
   "cell_type": "code",
   "execution_count": null,
   "metadata": {},
   "outputs": [],
   "source": []
  }
 ],
 "metadata": {
  "kernelspec": {
   "display_name": "Python 3",
   "language": "python",
   "name": "python3"
  },
  "language_info": {
   "codemirror_mode": {
    "name": "ipython",
    "version": 3
   },
   "file_extension": ".py",
   "mimetype": "text/x-python",
   "name": "python",
   "nbconvert_exporter": "python",
   "pygments_lexer": "ipython3",
   "version": "3.7.0"
  }
 },
 "nbformat": 4,
 "nbformat_minor": 2
}
